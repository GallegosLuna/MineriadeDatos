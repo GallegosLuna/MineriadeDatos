{
 "cells": [
  {
   "cell_type": "markdown",
   "metadata": {},
   "source": [
    "# Ejercicios Basicos de Python.\n",
    "Alumno: Enrique Alejandro Gallegos Luna\n",
    "Matricula:1858788.\n",
    "\n"
   ]
  },
  {
   "cell_type": "code",
   "execution_count": 4,
   "metadata": {},
   "outputs": [
    {
     "name": "stdout",
     "output_type": "stream",
     "text": [
      "Enrique Alejandro Gallegos Luna 1858788\n"
     ]
    }
   ],
   "source": [
    "mat=1858788 \n",
    "nom= 'Enrique Alejandro Gallegos Luna'\n",
    "print(nom,mat)"
   ]
  },
  {
   "cell_type": "markdown",
   "metadata": {},
   "source": [
    "### Ejercicio 2\n",
    "Pidiendo el input del usuario pide dos números y crea una pequeña calculadora con los operadores básicos de suma, resta, multiplicación, división, y exponente."
   ]
  },
  {
   "cell_type": "code",
   "execution_count": 5,
   "metadata": {},
   "outputs": [
    {
     "name": "stdout",
     "output_type": "stream",
     "text": [
      "Digita un numero: 2\n",
      "Digita otro numero: 3\n",
      "La suma del primer numero y el segundo es:  5\n",
      "La resta del primer numero menos el segundo es:  -1\n",
      "Multiplicacion:  6\n",
      "La division de los numeros es:  0.6666666666666666\n",
      "El primer numero elevado a la potencia del segundo numero que digitaste es:  8\n"
     ]
    }
   ],
   "source": [
    "n=int(input('Digita un numero: '))\n",
    "m=int(input('Digita otro numero: '))\n",
    "suma=m+n\n",
    "resta=n-m\n",
    "multiplicacion=n*m\n",
    "division=n/m\n",
    "exponente=n**m\n",
    "print('La suma del primer numero y el segundo es: ',suma)\n",
    "print('La resta del primer numero menos el segundo es: ',resta)\n",
    "print('Multiplicacion: ',multiplicacion)\n",
    "print('La division de los numeros es: ',division)\n",
    "print('El primer numero elevado a la potencia del segundo numero que digitaste es: ',exponente)\n"
   ]
  },
  {
   "cell_type": "markdown",
   "metadata": {},
   "source": [
    "### Ejercicio 3\n",
    "Con loop while o for, realiza una lista de 10 numeros multiplos de 3, y después realiza una función de loop que sume todos los números dentro del arreglo."
   ]
  },
  {
   "cell_type": "code",
   "execution_count": 7,
   "metadata": {},
   "outputs": [
    {
     "name": "stdout",
     "output_type": "stream",
     "text": [
      "[0, 3, 6, 9, 12, 15, 18, 21, 24, 27, 30]\n",
      "La suma de los números es:  165\n"
     ]
    }
   ],
   "source": [
    "arreglo=[]\n",
    "i=0\n",
    "while len(arreglo)<=10:\n",
    "    if i%3==0:\n",
    "        arreglo.append(i)\n",
    "    i=i+1\n",
    "print(arreglo)\n",
    "s=0\n",
    "for arreglo in arreglo:\n",
    "    s=s+arreglo\n",
    "print(\"La suma de los números es: \",s)"
   ]
  },
  {
   "cell_type": "markdown",
   "metadata": {},
   "source": [
    "### Ejercicio 4\n",
    "Con una función de if else, revisar si un número es par o es impar."
   ]
  },
  {
   "cell_type": "code",
   "execution_count": 8,
   "metadata": {},
   "outputs": [
    {
     "name": "stdout",
     "output_type": "stream",
     "text": [
      "Ingresar un numero: 5\n",
      "El numero no es par\n"
     ]
    }
   ],
   "source": [
    "n=int(input('Ingresar un numero: '))\n",
    "if n%2 ==0:\n",
    "    print('Tu numero es par')\n",
    "else:\n",
    "    print('El numero no es par')"
   ]
  },
  {
   "cell_type": "markdown",
   "metadata": {},
   "source": [
    "Ejercicio 5\n",
    "\n",
    "Utilizando diferentes clases en python, crea una calculadora con los operadores básicos de suma, resta, multiplicación, división, y exponente.\n"
   ]
  },
  {
   "cell_type": "code",
   "execution_count": 10,
   "metadata": {},
   "outputs": [
    {
     "name": "stdout",
     "output_type": "stream",
     "text": [
      "Ingresa un numero: 3\n",
      "Ingresa el segundo numero: 3\n",
      "Que deseas realizar? \n",
      " 1: Suma \n",
      " 2: Resta \n",
      " 3: Multiplicacion \n",
      " 4: Division \n",
      " 5: Exponente\n",
      " Cualquier otro lado: Salir1\n",
      "La suma de los numeros es:  6\n",
      "Que deseas realizar? \n",
      " 1: Suma \n",
      " 2: Resta \n",
      " 3: Multiplicacion \n",
      " 4: Division \n",
      " 5: Exponente\n",
      " Cualquier otro lado: Salir2\n",
      "La resta de los numeros es:  0\n",
      "Que deseas realizar? \n",
      " 1: Suma \n",
      " 2: Resta \n",
      " 3: Multiplicacion \n",
      " 4: Division \n",
      " 5: Exponente\n",
      " Cualquier otro lado: Salir3\n",
      "La multiplicacion de los numeros es:  9\n",
      "Que deseas realizar? \n",
      " 1: Suma \n",
      " 2: Resta \n",
      " 3: Multiplicacion \n",
      " 4: Division \n",
      " 5: Exponente\n",
      " Cualquier otro lado: Salir4\n",
      "La division de los numeros es:  1.0\n",
      "Que deseas realizar? \n",
      " 1: Suma \n",
      " 2: Resta \n",
      " 3: Multiplicacion \n",
      " 4: Division \n",
      " 5: Exponente\n",
      " Cualquier otro lado: Salir5\n",
      "El numero a elevado a la potencia b es igual a:  27\n",
      "Que deseas realizar? \n",
      " 1: Suma \n",
      " 2: Resta \n",
      " 3: Multiplicacion \n",
      " 4: Division \n",
      " 5: Exponente\n",
      " Cualquier otro lado: Salir6\n"
     ]
    }
   ],
   "source": [
    "\n",
    "def div(a,b):\n",
    "    d=a/b\n",
    "    return d\n",
    "def exp(a,b):\n",
    "    e=a**b\n",
    "    return e \n",
    "def suma(a,b):\n",
    "    s=a+b\n",
    "    return s\n",
    "def resta(a,b):\n",
    "    r=a-b\n",
    "    return r\n",
    "def mult(a,b):\n",
    "    m=a*b\n",
    "    return m\n",
    "a=int(input('Ingresa un numero: '))\n",
    "b=int(input('Ingresa el segundo numero: '))\n",
    "op=1\n",
    "while op==1 or op==2 or op==3 or op==4 or op==5:\n",
    "    op=int(input('Que deseas realizar? \\n 1: Suma \\n 2: Resta \\n 3: Multiplicacion \\n 4: Division \\n 5: Exponente\\n Cualquier otro lado: Salir'))\n",
    "    if op==1:\n",
    "        suma=suma(a,b)\n",
    "        print('La suma de los numeros es: ',suma)\n",
    "    if op==2:\n",
    "        resta=resta(a,b)\n",
    "        print('La resta de los numeros es: ',resta)\n",
    "    if op==3:\n",
    "        multiplicacion=mult(a,b)\n",
    "        print('La multiplicacion de los numeros es: ',multiplicacion)\n",
    "    if op==4:\n",
    "        division=div(a,b)\n",
    "        print('La division de los numeros es: ',division)\n",
    "    if op==5:\n",
    "        exponente=exp(a,b)\n",
    "        print('El numero a elevado a la potencia b es igual a: ',exponente)\n",
    "    \n",
    "        "
   ]
  },
  {
   "cell_type": "markdown",
   "metadata": {},
   "source": [
    "## Ejercicios con estructuras básicas de Python.\n",
    "#### Tuplas\n",
    "* Crear una variable flotante, integer, boleana y compleja e imprimir el tipo de variable que es."
   ]
  },
  {
   "cell_type": "code",
   "execution_count": 12,
   "metadata": {},
   "outputs": [
    {
     "name": "stdout",
     "output_type": "stream",
     "text": [
      "La variable c es True y es del tipo <class 'bool'>\n",
      "El número d es (5+8j) y es del tipo <class 'complex'>\n",
      "El número a es 0.987 y es del tipo <class 'float'>\n",
      "El número b es 4 y es del tipo <class 'int'>\n"
     ]
    }
   ],
   "source": [
    "F=True\n",
    "t=type(F)\n",
    "print(\"La variable c es\",F,\"y es del tipo\",t)\n",
    "d=5+8j\n",
    "t=type(d)\n",
    "print(\"El número d es\",d,\"y es del tipo\",t)\n",
    "i=0.987\n",
    "t=type(i)\n",
    "print(\"El número a es\",i,\"y es del tipo\",t)\n",
    "r=4\n",
    "t=type(b)\n",
    "print(\"El número b es\",r,\"y es del tipo\",t)\n"
   ]
  },
  {
   "cell_type": "markdown",
   "metadata": {},
   "source": [
    "* Crear una tupla con valores enteros imprimir el primer y ultimo valor.\n",
    "* Añadir 3 valores de string a la tupla.\n",
    "* Verificar si una variable existe dentro de la tupla."
   ]
  },
  {
   "cell_type": "code",
   "execution_count": 12,
   "metadata": {},
   "outputs": [
    {
     "name": "stdout",
     "output_type": "stream",
     "text": [
      "El primer elemento de la tupla es:  51\n",
      "El ultimo elemento de la tupla es:  87\n",
      "Que buscas?: Martes\n",
      "(51, 51, 51, 52, 53, 54, 54, 555, 67, 66, 87, 'Lunes', 'Martes', 'Miercoles')\n",
      "Tu variable se encuentra en la tupla\n"
     ]
    }
   ],
   "source": [
    "tupla=(51,51,51,52,53,54,54,555,67,66,87)\n",
    "primero=tupla[0]\n",
    "n=len(tupla)-1\n",
    "ultimo=tupla[n]\n",
    "print('El primer elemento de la tupla es: ',primero)\n",
    "print('El ultimo elemento de la tupla es: ',ultimo)\n",
    "tupla2=('Lunes','Martes','Miercoles')\n",
    "tupla=tupla+tupla2\n",
    "buscar=input('Que buscas?: ')\n",
    "print(tupla)\n",
    "if buscar in tupla:\n",
    "    print('Tu variable se encuentra en la tupla')\n",
    "else:\n",
    "    print('Tu variable no se encuentra en la tupla')"
   ]
  },
  {
   "cell_type": "markdown",
   "metadata": {},
   "source": [
    "#### Listas\n",
    "* Crear una lista con 40 elementos aleatorios enteros.\n",
    "* Con una funcion (def) crear dos listas nuevas a partir de la lista creada por numeros aleatorios, en la cual en una esten los elementos pares, y en la otra los elementos impares.\n",
    "* Crear dos variables con la longitud de ambas listas nuevas e imprimir las variables.\n",
    "* Ordenar los elementos de la lista par de mayor a menor, y los de la lista impar de menor a mayor.\n",
    "* Utilizar al menos cuatro de las funciones de listas en python en la lista original de 40 elementos."
   ]
  },
  {
   "cell_type": "code",
   "execution_count": 6,
   "metadata": {},
   "outputs": [
    {
     "name": "stdout",
     "output_type": "stream",
     "text": [
      "La longitud es:  40\n",
      "Los números pares ordenados:  [98, 96, 86, 84, 80, 78, 76, 68, 62, 48, 46, 42, 38, 36, 28, 26, 18, 16, 14, 10, 6]\n",
      "Los números impares ordenados:  [1, 9, 11, 13, 27, 29, 41, 43, 49, 55, 63, 65, 77, 81, 83, 85, 87, 89, 95]\n",
      "Los pares de la lista son:  [98, 96, 86, 84, 80, 78, 76, 68, 62, 48, 46, 42, 38, 36, 28, 26, 18, 16, 14, 10, 6] \n",
      "Los impares de la lista son:  [1, 9, 11, 13, 27, 29, 41, 43, 49, 55, 63, 65, 77, 81, 83, 85, 87, 89, 95]\n",
      "La cantidad de pares es:  21 \n",
      "La cantidad de impares es: 19\n",
      "El promedio es:  51.475\n",
      "El menor es:  1\n",
      "El mayor es:  98\n",
      "La suma es:  2059\n"
     ]
    }
   ],
   "source": [
    "import random\n",
    "def impar(l):\n",
    "    impar=list()\n",
    "    for e in l:\n",
    "        if e%2!=0:\n",
    "            impar.append(e)\n",
    "    return impar\n",
    "def par(l):\n",
    "    par=list()\n",
    "    for e in l:\n",
    "        if e%2==0:\n",
    "            par.append(e)\n",
    "    return par\n",
    "\n",
    "pares=list()\n",
    "impares=list()\n",
    "Aleatorio=range(0,100)\n",
    "l=random.sample(Aleatorio,40)\n",
    "longitud=len(l)\n",
    "print(\"La longitud es: \",longitud)\n",
    "pares=par(l)\n",
    "impares=impar(l)\n",
    "impares.sort()\n",
    "paresord=sorted(pares,reverse=True)\n",
    "pares=paresord\n",
    "cantidad1=len(pares)\n",
    "cantidad2=len(impares)\n",
    "suma=sum(l)\n",
    "promedio=suma/len(l)\n",
    "l.sort()\n",
    "minimo=min(l)\n",
    "maximo=max(l)\n",
    "print(\"Los números pares ordenados: \",pares)\n",
    "print(\"Los números impares ordenados: \",impares)\n",
    "print(\"Los pares de la lista son: \",pares,\"\\nLos impares de la lista son: \",impares)\n",
    "print(\"La cantidad de pares es: \",cantidad1,\"\\nLa cantidad de impares es:\",cantidad2)\n",
    "print(\"El promedio es: \",promedio)\n",
    "print(\"El menor es: \",minimo)\n",
    "print(\"El mayor es: \",maximo)\n",
    "print(\"La suma es: \",suma)\n"
   ]
  },
  {
   "cell_type": "markdown",
   "metadata": {},
   "source": [
    "#### Diccionarios\n",
    "* Crear un diccionario de 6 personas que conozcas con su primer nombre y su edad.\n",
    "* Crear una lista con los valores de la edad y reacomodar la lista de menor a mayor valor.\n",
    "* Usando el diccionario y un loop, imprimir solo los nombres.\n",
    "* Añadir dos personas nuevas a tu diccionario, incluyendo edad.\n",
    "\n"
   ]
  },
  {
   "cell_type": "code",
   "execution_count": 7,
   "metadata": {},
   "outputs": [
    {
     "name": "stdout",
     "output_type": "stream",
     "text": [
      "El diccionario es el siguiente: {'Abril': 19, 'Kenia': 19, 'Alejandro': 54, 'Diego': 14, 'Estrella': 18, 'Ana': 16}\n",
      "Las edades de menor a mayor valor son [14, 16, 18, 19, 19, 54]\n",
      "Los nombres son: \n",
      "Abril\n",
      "Kenia\n",
      "Alejandro\n",
      "Diego\n",
      "Estrella\n",
      "Ana\n",
      "El diccionario final es:  {'Abril': 19, 'Kenia': 19, 'Alejandro': 54, 'Diego': 14, 'Estrella': 18, 'Ana': 16, 'Sofia': 20, 'Marco': 19}\n"
     ]
    }
   ],
   "source": [
    "def personas(self,nombre,edad):\n",
    "    self.nombre=nombre\n",
    "    self.edad=edad\n",
    "diccionario={'Abril':19,'Kenia':19,'Alejandro':54,'Diego':14,'Estrella':18,'Ana':16}\n",
    "edad=list()\n",
    "print('El diccionario es el siguiente:',diccionario)\n",
    "for i in diccionario:\n",
    "    edad.append(diccionario[i])\n",
    "edad.sort()\n",
    "print(\"Las edades de menor a mayor valor son\",edad)\n",
    "print(\"Los nombres son: \")\n",
    "nomb=diccionario.keys()\n",
    "for e in nomb:\n",
    "    print(e)\n",
    "diccionario['Sofia']=20\n",
    "diccionario['Marco']=19\n",
    "print(\"El diccionario final es: \",diccionario)"
   ]
  },
  {
   "cell_type": "markdown",
   "metadata": {},
   "source": [
    "#### Sets\n",
    "* Crea un set con 100 numeros aleatorios enteros del 1 al 25.\n",
    "* Comprueba la longitud de tu set.\n",
    "* Crea una lista de 5 numeros aleatorios del 1 al 10 y comprueba si cada valor aparece en el set inicial."
   ]
  },
  {
   "cell_type": "code",
   "execution_count": 8,
   "metadata": {},
   "outputs": [
    {
     "name": "stdout",
     "output_type": "stream",
     "text": [
      "La longitud del set es:  25\n",
      "El set es el siguiente:  {1, 2, 3, 4, 5, 6, 7, 8, 9, 10, 11, 12, 13, 14, 15, 16, 17, 18, 19, 20, 21, 22, 23, 24, 25}\n",
      "La lista aleatoria es:  [2, 3, 6, 6, 3]\n",
      "El elemento 2 de la lista esta en el set\n",
      "El elemento 3 de la lista esta en el set\n",
      "El elemento 6 de la lista esta en el set\n",
      "El elemento 6 de la lista esta en el set\n",
      "El elemento 3 de la lista esta en el set\n"
     ]
    }
   ],
   "source": [
    "import random\n",
    "primerset=set()\n",
    "lon=list()\n",
    "for i in range(0,100):\n",
    "    elemento=random.randint(1,25)\n",
    "    primerset.add(elemento)    \n",
    "longitud=len(primerset)\n",
    "print('La longitud del set es: ',longitud)\n",
    "print('El set es el siguiente: ',primerset)\n",
    "for i in range(0,5):\n",
    "    elemtis=random.randint(0,10)\n",
    "    lon.append(elemtis)\n",
    "print('La lista aleatoria es: ',lon)\n",
    "\n",
    "for i in lon:\n",
    "    if i in primerset:\n",
    "        print('El elemento',i,'de la lista esta en el set')\n",
    "    else:\n",
    "        print('El elemento',i, 'de la lista no esta en el set')\n",
    "#En los sets cada elemento es unico, por lo tanto ningun elemento se va a repetir, es por esa razon \n",
    "#que es imposible crear un set con 100 numeros del 1 al 25 porque si se repite un numero, ya no seria un set. "
   ]
  },
  {
   "cell_type": "code",
   "execution_count": null,
   "metadata": {},
   "outputs": [],
   "source": []
  }
 ],
 "metadata": {
  "kernelspec": {
   "display_name": "Python 3",
   "language": "python",
   "name": "python3"
  },
  "language_info": {
   "codemirror_mode": {
    "name": "ipython",
    "version": 3
   },
   "file_extension": ".py",
   "mimetype": "text/x-python",
   "name": "python",
   "nbconvert_exporter": "python",
   "pygments_lexer": "ipython3",
   "version": "3.8.5"
  }
 },
 "nbformat": 4,
 "nbformat_minor": 4
}
